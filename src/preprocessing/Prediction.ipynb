{
  "cells": [
    {
      "attachments": {},
      "cell_type": "markdown",
      "metadata": {
        "colab_type": "text",
        "id": "GpY-ArzB1rH-"
      },
      "source": [
        "## Disease Detection using Symptoms\n",
        "\n",
        "\n"
      ]
    },
    {
      "cell_type": "code",
      "execution_count": 1,
      "metadata": {
        "colab": {},
        "colab_type": "code",
        "id": "jcDTmIyqctTq"
      },
      "outputs": [],
      "source": [
        "# Predicts diseases based on the symptoms entered and selected by the user.\n",
        "# importing all necessary libraries\n",
        "import warnings\n",
        "from decimal import Decimal\n",
        "import numpy as np\n",
        "import pandas as pd\n",
        "from sklearn.metrics import accuracy_score, precision_recall_fscore_support\n",
        "from sklearn.model_selection import train_test_split, cross_val_score\n",
        "from statistics import mean\n",
        "import nltk\n",
        "from nltk.corpus import wordnet \n",
        "import requests\n",
        "from bs4 import BeautifulSoup\n",
        "from nltk.corpus import stopwords\n",
        "from nltk.stem import WordNetLemmatizer\n",
        "from nltk.tokenize import RegexpTokenizer\n",
        "from itertools import combinations\n",
        "from time import time\n",
        "from collections import Counter\n",
        "import operator\n",
        "import math\n",
        "from sklearn.linear_model import LogisticRegression\n",
        "from sklearn.ensemble import RandomForestClassifier\n",
        "from sklearn.neighbors import KNeighborsClassifier\n",
        "from sklearn.tree import DecisionTreeClassifier\n",
        "from sklearn.naive_bayes import MultinomialNB\n",
        "import matplotlib.pyplot as plt\n",
        "\n",
        "warnings.simplefilter(\"ignore\")"
      ]
    },
    {
      "cell_type": "markdown",
      "metadata": {
        "colab_type": "text",
        "id": "IsuWDbumeSco"
      },
      "source": [
        "**synonyms function** finds the synonymous terms of a symptom entered by the user.\n",
        "\n",
        "This is necessary as the user may use a term for a symptom which may be different from the one present in dataset.\n",
        "This improves the accuracy by reducing the wrong predictions even when symptoms for a disease are entered slightly different than the ones on which model is trained.\n",
        "\n",
        "*Synonyms are searched on Thesaurus.com and NLTK Wordnet*"
      ]
    },
    {
      "cell_type": "code",
      "execution_count": 2,
      "metadata": {
        "colab": {},
        "colab_type": "code",
        "id": "DhrzSJPadBwH"
      },
      "outputs": [],
      "source": [
        "# returns the list of synonyms of the input word from thesaurus.com (https://www.thesaurus.com/) and wordnet (https://www.nltk.org/howto/wordnet.html)\n",
        "def synonyms(term):\n",
        "    synonyms = []\n",
        "    response = requests.get('https://www.thesaurus.com/browse/{}'.format(term))\n",
        "    soup = BeautifulSoup(response.content,  \"html.parser\")\n",
        "    try:\n",
        "        container=soup.find('section', {'class': 'MainContentContainer'}) \n",
        "        row=container.find('div',{'class':'css-191l5o0-ClassicContentCard'})\n",
        "        row = row.find_all('li')\n",
        "        for x in row:\n",
        "            synonyms.append(x.get_text())\n",
        "    except:\n",
        "        None\n",
        "    for syn in wordnet.synsets(term):\n",
        "        synonyms+=syn.lemma_names()\n",
        "    return set(synonyms)"
      ]
    },
    {
      "cell_type": "code",
      "execution_count": 4,
      "metadata": {
        "colab": {},
        "colab_type": "code",
        "id": "JwigX34ldGPl"
      },
      "outputs": [],
      "source": [
        "# utlities for pre-processing\n",
        "stop_words = stopwords.words('english')\n",
        "lemmatizer = WordNetLemmatizer()\n",
        "splitter = RegexpTokenizer(r'\\w+')"
      ]
    },
    {
      "cell_type": "code",
      "execution_count": 5,
      "metadata": {
        "colab": {},
        "colab_type": "code",
        "id": "5fzGWm5NdIkN"
      },
      "outputs": [],
      "source": [
        "# Load Dataset scraped from NHP (https://www.nhp.gov.in/disease-a-z) & Wikipedia\n",
        "# Scrapping and creation of dataset csv is done in a separate program\n",
        "df_comb = pd.read_csv(\"dis_sym_dataset_comb.csv\") # Disease combination\n",
        "df_norm = pd.read_csv(\"dis_sym_dataset_norm.csv\") # Individual Disease\n",
        "\n",
        "X = df_comb.iloc[:, 1:]\n",
        "Y = df_comb.iloc[:, 0:1]"
      ]
    },
    {
      "attachments": {},
      "cell_type": "markdown",
      "metadata": {
        "colab_type": "text",
        "id": "A4fuvOxOhR6v"
      },
      "source": [
        "Using **Logistic Regression (LR) Classifier**\n",
        "\n",
        "Cross validation is done on dataset with cv = 5"
      ]
    },
    {
      "cell_type": "code",
      "execution_count": 6,
      "metadata": {
        "colab": {},
        "colab_type": "code",
        "id": "Njmbkf6IdKwt"
      },
      "outputs": [],
      "source": [
        "lr = LogisticRegression()\n",
        "lr = lr.fit(X, Y)\n",
        "scores = cross_val_score(lr, X, Y, cv=5)"
      ]
    },
    {
      "cell_type": "code",
      "execution_count": 7,
      "metadata": {
        "colab": {},
        "colab_type": "code",
        "id": "Gvck32ifdVZV"
      },
      "outputs": [],
      "source": [
        "X = df_norm.iloc[:, 1:]\n",
        "Y = df_norm.iloc[:, 0:1]"
      ]
    },
    {
      "cell_type": "code",
      "execution_count": 8,
      "metadata": {
        "colab": {},
        "colab_type": "code",
        "id": "0ppiBHtudX1O"
      },
      "outputs": [],
      "source": [
        "# List of symptoms\n",
        "dataset_symptoms = list(X.columns)"
      ]
    },
    {
      "cell_type": "markdown",
      "metadata": {
        "colab_type": "text",
        "id": "jNytuZen1Ij3"
      },
      "source": [
        "# Symptoms initially taken from user."
      ]
    },
    {
      "cell_type": "code",
      "execution_count": 18,
      "metadata": {
        "colab": {
          "base_uri": "https://localhost:8080/",
          "height": 50
        },
        "colab_type": "code",
        "id": "6eRjwZhQdbxN",
        "outputId": "0b698f30-810b-42f2-e47b-128564d3d6fc"
      },
      "outputs": [],
      "source": [
        "# Taking symptoms from user as input \n",
        "user_symptoms = str(input(\"Please enter symptoms separated by comma(,):\\n\")).lower().split(',')\n",
        "# Preprocessing the input symptoms\n",
        "processed_user_symptoms=[]\n",
        "for sym in user_symptoms:\n",
        "    sym=sym.strip()\n",
        "    sym=sym.replace('-',' ')\n",
        "    sym=sym.replace(\"'\",'')\n",
        "    sym = ' '.join([lemmatizer.lemmatize(word) for word in splitter.tokenize(sym)])\n",
        "    processed_user_symptoms.append(sym)"
      ]
    },
    {
      "cell_type": "markdown",
      "metadata": {
        "colab_type": "text",
        "id": "xCAJTUngi_V_"
      },
      "source": [
        "Pre-processing on symptoms entered by user is done."
      ]
    },
    {
      "cell_type": "code",
      "execution_count": 19,
      "metadata": {
        "colab": {
          "base_uri": "https://localhost:8080/",
          "height": 70
        },
        "colab_type": "code",
        "id": "Pewx4v_jdcbV",
        "outputId": "0e70bb1e-bd37-4f28-924e-65a2e32f20df"
      },
      "outputs": [
        {
          "name": "stdout",
          "output_type": "stream",
          "text": [
            "After query expansion done by using the symptoms entered\n",
            "['coldness frigid moth-eaten dusty common cold insensate low temperature inhuman cold frigidity frigidness stale cold-blooded', 'cough coughing', 'hurt botheration anguish painful sensation neck pain pain in the neck trouble bother ail painfulness pain in the ass make out nuisance pain sensation hurting neck pain cervix annoyance neck opening infliction']\n"
          ]
        }
      ],
      "source": [
        "# Taking each user symptom and finding all its synonyms and appending it to the pre-processed symptom string\n",
        "user_symptoms = []\n",
        "for user_sym in processed_user_symptoms:\n",
        "    user_sym = user_sym.split()\n",
        "    str_sym = set()\n",
        "    for comb in range(1, len(user_sym)+1):\n",
        "        for subset in combinations(user_sym, comb):\n",
        "            subset=' '.join(subset)\n",
        "            subset = synonyms(subset) \n",
        "            str_sym.update(subset)\n",
        "    str_sym.add(' '.join(user_sym))\n",
        "    user_symptoms.append(' '.join(str_sym).replace('_',' '))\n",
        "# query expansion performed by joining synonyms found for each symptoms initially entered\n",
        "print(\"After query expansion done by using the symptoms entered\")\n",
        "print(user_symptoms)"
      ]
    },
    {
      "cell_type": "markdown",
      "metadata": {
        "colab_type": "text",
        "id": "7sPyVlJIjdv2"
      },
      "source": [
        "The below procedure is performed in order to show the symptom synonmys found for the symptoms entered by the user.\n",
        "\n",
        "The symptom synonyms and user symptoms are matched with the symptoms present in dataset. Only the symptoms which matches the symptoms present in dataset are shown back to the user. "
      ]
    },
    {
      "cell_type": "code",
      "execution_count": 20,
      "metadata": {
        "colab": {},
        "colab_type": "code",
        "id": "qVnrRYXpdelN"
      },
      "outputs": [],
      "source": [
        "# Loop over all the symptoms in dataset and check its similarity score to the synonym string of the user-input \n",
        "# symptoms. If similarity>0.5, add the symptom to the final list\n",
        "found_symptoms = set()\n",
        "for idx, data_sym in enumerate(dataset_symptoms):\n",
        "    data_sym_split=data_sym.split()\n",
        "    for user_sym in user_symptoms:\n",
        "        count=0\n",
        "        for symp in data_sym_split:\n",
        "            if symp in user_sym.split():\n",
        "                count+=1\n",
        "        if count/len(data_sym_split)>0.5:\n",
        "            found_symptoms.add(data_sym)\n",
        "found_symptoms = list(found_symptoms)"
      ]
    },
    {
      "attachments": {},
      "cell_type": "markdown",
      "metadata": {
        "colab_type": "text",
        "id": "5g0jKPRfj-dP"
      },
      "source": [
        "## Prompt the user to select the relevant symptoms by entering the corresponding indices."
      ]
    },
    {
      "cell_type": "code",
      "execution_count": 22,
      "metadata": {
        "colab": {
          "base_uri": "https://localhost:8080/",
          "height": 235
        },
        "colab_type": "code",
        "id": "piRNP4WSdiCG",
        "outputId": "54c1c6fb-6c7b-4b01-c69e-fd92eed19e5d"
      },
      "outputs": [
        {
          "name": "stdout",
          "output_type": "stream",
          "text": [
            "Top matching symptoms from your search!\n",
            "0 : trouble sensation\n",
            "1 : coughing\n",
            "2 : neck\n",
            "3 : trouble opening mouth\n",
            "4 : painful\n"
          ]
        }
      ],
      "source": [
        "# Print all found symptoms\n",
        "print(\"Top matching symptoms from your search!\")\n",
        "for idx, symp in enumerate(found_symptoms):\n",
        "    print(idx,\":\",symp)\n",
        "    \n",
        "# Show the related symptoms found in the dataset and ask user to select among them\n",
        "select_list = input(\"\\nPlease select the relevant symptoms. Enter indices (separated-space):\\n\").split()\n",
        "\n",
        "# Find other relevant symptoms from the dataset based on user symptoms based on the highest co-occurance with the\n",
        "# ones that is input by the user\n",
        "dis_list = set()\n",
        "final_symp = [] \n",
        "counter_list = []\n",
        "for idx in select_list:\n",
        "    symp=found_symptoms[int(idx)]\n",
        "    final_symp.append(symp)\n",
        "    dis_list.update(set(df_norm[df_norm[symp]==1]['label_dis']))\n",
        "   \n",
        "for dis in dis_list:\n",
        "    row = df_norm.loc[df_norm['label_dis'] == dis].values.tolist()\n",
        "    row[0].pop(0)\n",
        "    for idx,val in enumerate(row[0]):\n",
        "        if val!=0 and dataset_symptoms[idx] not in final_symp:\n",
        "            counter_list.append(dataset_symptoms[idx])"
      ]
    },
    {
      "cell_type": "markdown",
      "metadata": {
        "colab_type": "text",
        "id": "BO2mW3K4oIz9"
      },
      "source": [
        "## To find symptoms which generally co-occur, for example with symptoms like cough, headache generally happens hence they co-occur."
      ]
    },
    {
      "cell_type": "code",
      "execution_count": 23,
      "metadata": {
        "colab": {},
        "colab_type": "code",
        "id": "pjq2q16OdlHe"
      },
      "outputs": [],
      "source": [
        "# Symptoms that co-occur with the ones selected by user              \n",
        "dict_symp = dict(Counter(counter_list))\n",
        "dict_symp_tup = sorted(dict_symp.items(), key=operator.itemgetter(1),reverse=True)   \n",
        "#print(dict_symp_tup)"
      ]
    },
    {
      "cell_type": "markdown",
      "metadata": {
        "colab_type": "text",
        "id": "TjmBiLuGpEfH"
      },
      "source": [
        "## User is presented with a list of co-occuring symptoms to select from and is performed iteratively to recommend more possible symptoms based on the similarity to the previously entered symptoms.\n",
        "\n",
        "As the co-occuring symptoms can be in overwhelming numbers, only the top 5 are recommended to the user from which user can select the symptoms.\n",
        "\n",
        "If user does not have any of those 5 symptoms and wants to see the next 5, he can do so by giving input as -1.\n",
        "\n",
        "To stop the recommendation, user needs to give input as \"No\"."
      ]
    },
    {
      "cell_type": "code",
      "execution_count": 15,
      "metadata": {
        "colab": {
          "base_uri": "https://localhost:8080/",
          "height": 470
        },
        "colab_type": "code",
        "id": "neTz-oNVdn0N",
        "outputId": "de4c07ac-1ef6-45ae-ab10-454cd8ea425c"
      },
      "outputs": [
        {
          "name": "stdout",
          "output_type": "stream",
          "text": [
            "\n",
            "Common co-occuring symptoms:\n",
            "0 : testicular pain\n",
            "1 : vomiting\n",
            "2 : sore throat\n",
            "3 : barky cough\n",
            "4 : confusion\n",
            "\n",
            "Common co-occuring symptoms:\n",
            "0 : maculopapular rash\n",
            "1 : diarrhea\n",
            "2 : nausea\n",
            "3 : shortness breath\n",
            "4 : feeling tired\n",
            "\n",
            "Common co-occuring symptoms:\n",
            "0 : swollen lymph node\n",
            "1 : muscle weakness\n",
            "2 : chest pain\n",
            "3 : unintended weight loss\n",
            "4 : runny nose\n",
            "\n",
            "Common co-occuring symptoms:\n",
            "0 : tiredness\n",
            "1 : seizure\n",
            "2 : large lymph node\n",
            "3 : dizziness\n",
            "4 : red eye\n",
            "\n",
            "Common co-occuring symptoms:\n",
            "0 : enlarged lymph node neck\n",
            "1 : low blood pressure\n",
            "2 : skin peeling\n",
            "3 : problem vision\n",
            "4 : severe pain\n"
          ]
        }
      ],
      "source": [
        "# Iteratively, suggest top co-occuring symptoms to the user and ask to select the ones applicable \n",
        "found_symptoms=[]\n",
        "count=0\n",
        "for tup in dict_symp_tup:\n",
        "    count+=1\n",
        "    found_symptoms.append(tup[0])\n",
        "    if count%5==0 or count==len(dict_symp_tup):\n",
        "        print(\"\\nCommon co-occuring symptoms:\")\n",
        "        for idx,ele in enumerate(found_symptoms):\n",
        "            print(idx,\":\",ele)\n",
        "        select_list = input(\"Do you have have of these symptoms? If Yes, enter the indices (space-separated), 'no' to stop, '-1' to skip:\\n\").lower().split();\n",
        "        if select_list[0]=='no':\n",
        "            break\n",
        "        if select_list[0]=='-1':\n",
        "            found_symptoms = [] \n",
        "            continue\n",
        "        for idx in select_list:\n",
        "            final_symp.append(found_symptoms[int(idx)])\n",
        "        found_symptoms = []"
      ]
    },
    {
      "cell_type": "markdown",
      "metadata": {
        "colab_type": "text",
        "id": "nI5taHc8pfY3"
      },
      "source": [
        "Final Symptom list"
      ]
    },
    {
      "cell_type": "code",
      "execution_count": 16,
      "metadata": {
        "colab": {
          "base_uri": "https://localhost:8080/",
          "height": 134
        },
        "colab_type": "code",
        "id": "4jIiVsbBdpg-",
        "outputId": "e89075cf-b4ab-484f-e10b-9a4864f54c90"
      },
      "outputs": [
        {
          "name": "stdout",
          "output_type": "stream",
          "text": [
            "\n",
            "Final list of Symptoms that will be used for prediction:\n",
            "headache\n",
            "trouble sensation\n",
            "coughing\n",
            "fever\n",
            "vomiting\n",
            "sore throat\n",
            "barky cough\n",
            "confusion\n",
            "shortness breath\n",
            "feeling tired\n",
            "tiredness\n",
            "large lymph node\n"
          ]
        }
      ],
      "source": [
        "# Create query vector based on symptoms selected by the user\n",
        "print(\"\\nFinal list of Symptoms that will be used for prediction:\")\n",
        "sample_x = [0 for x in range(0,len(dataset_symptoms))]\n",
        "for val in final_symp:\n",
        "    print(val)\n",
        "    sample_x[dataset_symptoms.index(val)]=1"
      ]
    },
    {
      "cell_type": "markdown",
      "metadata": {
        "colab_type": "text",
        "id": "o9MbvRV_phpv"
      },
      "source": [
        "Prediction of disease is done"
      ]
    },
    {
      "cell_type": "code",
      "execution_count": 17,
      "metadata": {
        "colab": {},
        "colab_type": "code",
        "id": "8yWRutt2drbt"
      },
      "outputs": [],
      "source": [
        "# Predict disease\n",
        "lr = LogisticRegression()\n",
        "lr = lr.fit(X, Y)\n",
        "prediction = lr.predict_proba([sample_x])"
      ]
    },
    {
      "attachments": {},
      "cell_type": "markdown",
      "metadata": {
        "colab_type": "text",
        "id": "VpwualbypkNl"
      },
      "source": [
        "Show top k diseases and their probabilities to the user.\n"
      ]
    },
    {
      "cell_type": "code",
      "execution_count": 18,
      "metadata": {
        "colab": {},
        "colab_type": "code",
        "id": "bVcksjqSdt61"
      },
      "outputs": [],
      "source": [
        "k = 10\n",
        "diseases = list(set(Y['label_dis']))\n",
        "diseases.sort()\n",
        "topk = prediction[0].argsort()[-k:][::-1]"
      ]
    },
    {
      "attachments": {},
      "cell_type": "markdown",
      "metadata": {
        "colab_type": "text",
        "id": "8_A-6Dl5qHlv"
      },
      "source": [
        "# Showing the list of top k diseases to the user with their prediction probabilities."
      ]
    },
    {
      "cell_type": "code",
      "execution_count": 19,
      "metadata": {
        "colab": {
          "base_uri": "https://localhost:8080/",
          "height": 638
        },
        "colab_type": "code",
        "id": "bgoHqtPSdvYO",
        "outputId": "908f5f4b-0894-480e-d9d5-e72bfe36b435"
      },
      "outputs": [
        {
          "name": "stdout",
          "output_type": "stream",
          "text": [
            "\n",
            "Top 10 diseases predicted based on symptoms\n",
            "0 Disease name: Influenza \tProbability: 41.16%\n",
            "1 Disease name: Nipah virus infection \tProbability: 34.3%\n",
            "2 Disease name: Acute encephalitis syndrome \tProbability: 34.3%\n",
            "3 Disease name: Legionellosis \tProbability: 34.3%\n",
            "4 Disease name: Japanese Encephalitis \tProbability: 34.3%\n",
            "5 Disease name: Strep throat \tProbability: 27.44%\n",
            "6 Disease name: Iron Deficiency Anemia \tProbability: 27.44%\n",
            "7 Disease name: Diphtheria \tProbability: 27.44%\n",
            "8 Disease name: Mononucleosis \tProbability: 27.44%\n",
            "9 Disease name: Middle East respiratory syndrome coronavirus (MERS‐CoV) \tProbability: 27.44%\n"
          ]
        }
      ],
      "source": [
        "print(f\"\\nTop {k} diseases predicted based on symptoms\")\n",
        "topk_dict = {}\n",
        "# Show top 10 highly probable disease to the user.\n",
        "fp = open(\"disease_output.csv\", \"w\")\n",
        "fp.write(\"Disease, Percentage\\n\")\n",
        "for idx,t in  enumerate(topk):\n",
        "    match_sym=set()\n",
        "    row = df_norm.loc[df_norm['label_dis'] == diseases[t]].values.tolist()\n",
        "    row[0].pop(0)\n",
        "\n",
        "    for idx,val in enumerate(row[0]):\n",
        "        if val!=0:\n",
        "            match_sym.add(dataset_symptoms[idx])\n",
        "    prob = (len(match_sym.intersection(set(final_symp)))+1)/(len(set(final_symp))+1)\n",
        "    prob *= mean(scores)\n",
        "    topk_dict[t] = prob\n",
        "j = 0\n",
        "topk_index_mapping = {}\n",
        "topk_sorted = dict(sorted(topk_dict.items(), key=lambda kv: kv[1], reverse=True))\n",
        "for key in topk_sorted:\n",
        "  prob = topk_sorted[key]*100\n",
        "  print(str(j) + \" Disease name:\",diseases[key], \"\\tProbability:\",str(round(prob, 2))+\"%\")\n",
        "  fp.write(f\"{diseases[key]}, {str(round(prob, 2))}\\n\")\n",
        "  topk_index_mapping[j] = key\n",
        "  j += 1\n",
        "fp.close()\n",
        "\n"
      ]
    },
    {
      "cell_type": "code",
      "execution_count": 23,
      "metadata": {},
      "outputs": [
        {
          "name": "stdout",
          "output_type": "stream",
          "text": [
            "Accuracy (LR) : 91.86%\n",
            "Cross Validation Accuracy (LR): 89.19%\n"
          ]
        }
      ],
      "source": [
        "df_comb = pd.read_csv(\"dis_sym_dataset_comb.csv\")\n",
        "\n",
        "# creation of features and label for training the models\n",
        "X = df_comb.iloc[:, 1:]\n",
        "Y = df_comb.iloc[:, 0:1]\n",
        "\n",
        "# splitting data for training the classifiers and testing\n",
        "x_train, x_test, y_train, y_test = train_test_split(X, Y, test_size=0.10)\n",
        "     \n",
        "# lists used for accuracy plots\n",
        "accuracy_list = []\n",
        "cross_accuracy_list = []\n",
        "model_list = []\n",
        "     \n",
        "# LR Classifier\n",
        "lr = LogisticRegression()\n",
        "lr = lr.fit(X, Y)\n",
        "# prediction of labels for the test data\n",
        "lr_pred = lr.predict(x_test)\n",
        "acc_lr = round(Decimal(accuracy_score(y_test, lr_pred) * 100), 2)\n",
        "accuracy_list.append(acc_lr)\n",
        "model_list.append(\"LR\")\n",
        "print(f\"Accuracy (LR) : {acc_lr}%\")\n",
        "\n",
        "# Cross Validation Accuracy LR\n",
        "# performing cross validation with 5 different splits\n",
        "scores_lr = cross_val_score(lr, X, Y, cv=5)\n",
        "# mean of cross val score (accuracy)\n",
        "score = round(Decimal(scores_lr.mean() * 100), 2)\n",
        "cross_accuracy_list.append(score)\n",
        "print(f\"Cross Validation Accuracy (LR): {score}%\")\n"
      ]
    },
    {
      "attachments": {},
      "cell_type": "markdown",
      "metadata": {},
      "source": [
        "\n",
        "# Random Forest Classifier\n",
        "\n",
        "RF classifier is an estimator that fits a number of decision tree classifiers on various sub-samples of the dataset and take the average to improve predicting accuracy.\n"
      ]
    },
    {
      "cell_type": "code",
      "execution_count": 24,
      "metadata": {},
      "outputs": [
        {
          "name": "stdout",
          "output_type": "stream",
          "text": [
            "Accuracy (RF) : 91.18%\n",
            "Cross Validation Accuracy (RF): 86.61%\n"
          ]
        }
      ],
      "source": [
        "# RF Classifier\n",
        "rf = RandomForestClassifier(n_estimators=10, criterion='entropy')\n",
        "rf = rf.fit(X, Y)\n",
        "# prediction of labels for the test data\n",
        "rf_pred = rf.predict(x_test)\n",
        "acc_rf = round(Decimal(accuracy_score(y_test, rf_pred) * 100), 2)\n",
        "accuracy_list.append(acc_rf)\n",
        "model_list.append(\"RF\")\n",
        "print(f\"Accuracy (RF) : {acc_rf}%\")\n",
        "\n",
        "# Cross Validation Accuracy RF\n",
        "# performing cross validation with 5 different splits\n",
        "scores_rf = cross_val_score(rf, X, Y, cv=5)\n",
        "# mean of cross val score (accuracy)\n",
        "score = round(Decimal(scores_rf.mean() * 100), 2)\n",
        "cross_accuracy_list.append(score)\n",
        "print(f\"Cross Validation Accuracy (RF): {score}%\")"
      ]
    },
    {
      "attachments": {},
      "cell_type": "markdown",
      "metadata": {},
      "source": [
        "# K-Nearest Neighbor Classifier\n",
        "The principle behind nearest neighbor method is to find a predefined number of training samples closest in distance to the new point, and predict the label from these. No. of samples used here is 7."
      ]
    },
    {
      "cell_type": "code",
      "execution_count": 27,
      "metadata": {},
      "outputs": [
        {
          "name": "stdout",
          "output_type": "stream",
          "text": [
            "Accuracy (KNN) : 91.86%\n",
            "Cross Validation Accuracy (KNN): 85.25%\n"
          ]
        }
      ],
      "source": [
        "# KNN Classifier\n",
        "knn = KNeighborsClassifier(n_neighbors=7, weights='distance', n_jobs=4)\n",
        "knn = knn.fit(X, Y)\n",
        "# prediction of labels for the test data\n",
        "knn_pred = knn.predict(x_test)\n",
        "acc_knn = round(Decimal(accuracy_score(y_test, knn_pred) * 100), 2)\n",
        "accuracy_list.append(acc_knn)\n",
        "model_list.append(\"KNN\")\n",
        "print(f\"Accuracy (KNN) : {acc_knn}%\")\n",
        "\n",
        "# Cross Validation Accuracy KNN\n",
        "# performing cross validation with 5 different splits\n",
        "scores_knn = cross_val_score(knn, X, Y, cv=5)\n",
        "# mean of cross val score (accuracy)\n",
        "score = round(Decimal(scores_knn.mean() * 100), 2)\n",
        "cross_accuracy_list.append(score)\n",
        "print(f\"Cross Validation Accuracy (KNN): {score}%\")"
      ]
    },
    {
      "attachments": {},
      "cell_type": "markdown",
      "metadata": {},
      "source": [
        "# Multinomial Naive Bayes Classifier\n",
        "MNB works better on discrete features and the multinomial distribution usually requires integer counts. However, it also works with fractional counts such tf-idf."
      ]
    },
    {
      "cell_type": "code",
      "execution_count": 29,
      "metadata": {},
      "outputs": [
        {
          "name": "stdout",
          "output_type": "stream",
          "text": [
            "Accuracy (MNB) : 85.63%\n",
            "Cross Validation Accuracy (MNB): 84.50%\n"
          ]
        }
      ],
      "source": [
        "# Multinomial NB Classifier\n",
        "mnb = MultinomialNB()\n",
        "mnb = mnb.fit(X, Y)\n",
        "# prediction of labels for the test data\n",
        "mnb_pred = mnb.predict(x_test)\n",
        "# calculation of accuracy score based on predictions performed\n",
        "# converting to Decimal as rounding with float is inaccurate\n",
        "acc_mnb = round(Decimal(accuracy_score(y_test, mnb_pred) * 100), 2)\n",
        "accuracy_list.append(acc_mnb)\n",
        "model_list.append(\"MNB\")\n",
        "print(f\"Accuracy (MNB) : {acc_mnb}%\")\n",
        "\n",
        "# Cross Validation Accuracy MNB\n",
        "# performing cross validation with 5 different splits\n",
        "scores_mnb = cross_val_score(mnb, X, Y, cv=5)\n",
        "# mean of cross val score (accuracy)\n",
        "score = round(Decimal(scores_mnb.mean() * 100), 2)\n",
        "cross_accuracy_list.append(score)\n",
        "print(f\"Cross Validation Accuracy (MNB): {score}%\")"
      ]
    },
    {
      "attachments": {},
      "cell_type": "markdown",
      "metadata": {},
      "source": [
        "# Decision Tree Classifier"
      ]
    },
    {
      "cell_type": "code",
      "execution_count": 30,
      "metadata": {},
      "outputs": [
        {
          "name": "stdout",
          "output_type": "stream",
          "text": [
            "Accuracy (DT) : 91.97%\n",
            "Cross Validation Accuracy (DT): 83.55%\n"
          ]
        }
      ],
      "source": [
        "# DT Classifier\n",
        "dt = DecisionTreeClassifier()\n",
        "dt = dt.fit(X, Y)\n",
        "# prediction of labels for the test data\n",
        "dt_pred = dt.predict(x_test)\n",
        "acc_dt = round(Decimal(accuracy_score(y_test, dt_pred) * 100), 2)\n",
        "accuracy_list.append(acc_dt)\n",
        "model_list.append(\"DT\")\n",
        "print(f\"Accuracy (DT) : {acc_dt}%\")\n",
        "\n",
        "# Cross Validation Accuracy DT\n",
        "# performing cross validation with 5 different splits\n",
        "scores_dt = cross_val_score(dt, X, Y, cv=5)\n",
        "# mean of cross val score (accuracy)\n",
        "score = round(Decimal(scores_dt.mean() * 100), 2)\n",
        "cross_accuracy_list.append(score)\n",
        "print(f\"Cross Validation Accuracy (DT): {score}%\")"
      ]
    },
    {
      "attachments": {},
      "cell_type": "markdown",
      "metadata": {},
      "source": [
        "# Accuracy Comparison Plot for all the classifiers"
      ]
    },
    {
      "cell_type": "code",
      "execution_count": 36,
      "metadata": {},
      "outputs": [
        {
          "data": {
            "image/png": "[encoded data removed]",
            "text/plain": [
              "<Figure size 700x500 with 1 Axes>"
            ]
          },
          "metadata": {},
          "output_type": "display_data"
        }
      ],
      "source": [
        "# comparison plot for all classifiers with their accuracy\n",
        "plt.style.use('seaborn-poster')\n",
        "fig = plt.figure(figsize=(7, 5))\n",
        "ax = fig.add_subplot()\n",
        "plt.title(\"Model Vs Accuracy\")\n",
        "plt.xlabel('Classifier')\n",
        "plt.ylabel('Accuracy (%)')\n",
        "plt.bar(model_list, accuracy_list, color='blue')\n",
        "for i, j in enumerate(accuracy_list):\n",
        "    ax.text(float(i)-0.15, float(j)+0.7, str(j), color='blue')\n",
        "plt.show()"
      ]
    }
  ],
  "metadata": {
    "colab": {
      "collapsed_sections": [],
      "name": "SymptomSuggestion.ipynb",
      "provenance": []
    },
    "kernelspec": {
      "display_name": "Python 3",
      "name": "python3"
    },
    "language_info": {
      "codemirror_mode": {
        "name": "ipython",
        "version": 3
      },
      "file_extension": ".py",
      "mimetype": "text/x-python",
      "name": "python",
      "nbconvert_exporter": "python",
      "pygments_lexer": "ipython3",
      "version": "3.11.3"
    }
  },
  "nbformat": 4,
  "nbformat_minor": 0
}
